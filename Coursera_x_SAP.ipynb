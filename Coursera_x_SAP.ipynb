{
  "nbformat": 4,
  "nbformat_minor": 0,
  "metadata": {
    "colab": {
      "provenance": [],
      "collapsed_sections": [
        "JfRyxfQ5yYnI",
        "6ThU2BSMrIvI",
        "ZVYeoM3rvoGq",
        "MrQ5MU6EyEsx",
        "ygVijw8Gys5E"
      ],
      "authorship_tag": "ABX9TyNQWv3y1Tvj4wnliZSQ6GQY",
      "include_colab_link": true
    },
    "kernelspec": {
      "name": "python3",
      "display_name": "Python 3"
    },
    "language_info": {
      "name": "python"
    }
  },
  "cells": [
    {
      "cell_type": "markdown",
      "metadata": {
        "id": "view-in-github",
        "colab_type": "text"
      },
      "source": [
        "<a href=\"https://colab.research.google.com/github/Pakpako95/SAPxCoursera/blob/main/Coursera_x_SAP.ipynb\" target=\"_parent\"><img src=\"https://colab.research.google.com/assets/colab-badge.svg\" alt=\"Open In Colab\"/></a>"
      ]
    },
    {
      "cell_type": "markdown",
      "source": [
        "##🔷Coursera x SAP"
      ],
      "metadata": {
        "id": "ySCjrk5wx95E"
      }
    },
    {
      "cell_type": "markdown",
      "source": [
        "### 💠**Module 1. Introduction to the SAP Ecosystem**"
      ],
      "metadata": {
        "id": "JfRyxfQ5yYnI"
      }
    },
    {
      "cell_type": "markdown",
      "source": [
        "\"A system is the prodcut of their interaction\""
      ],
      "metadata": {
        "id": "W-2QfJC3y1XT"
      }
    },
    {
      "cell_type": "markdown",
      "source": [
        "**What is SAP?**\n",
        "\n",
        "SAP, founded in 1972 in Germany, helps customers build intelligent, sustainable enterprises. SAP’s fundamental philosophy is to help build a sustainable world using cloud technologies.\n",
        "\n",
        "SAP’s collaborative partnerships and three types of partners — global service, cloud infrastructure, and global technology partners."
      ],
      "metadata": {
        "id": "jXIbx8N72nJs"
      }
    },
    {
      "cell_type": "markdown",
      "source": [
        "**Two key SAP professional roles:**\n",
        "\n",
        "* **Functional Consultant:** Work with clients and understand their business and their business problems. Then you apply your knowledge of SAP solutions to the problem the customer is trying to solve.\n",
        "\n",
        "* **Technical consultant:** Take the proposed design and develop a technical design. Then you apply your technical expertise to implement, deploy, test, and run this solution using SAP systems.  \n",
        "\n"
      ],
      "metadata": {
        "id": "K0HJOKeA37U3"
      }
    },
    {
      "cell_type": "markdown",
      "source": [
        "**Skills:**\n",
        "\n",
        "* Self-starter\n",
        "* Project mangaement skills\n",
        "* Interpersonal skills\n",
        "* Productive memeber of the team\n",
        "* Life-long learners"
      ],
      "metadata": {
        "id": "OyidXAsV_Fzy"
      }
    },
    {
      "cell_type": "markdown",
      "source": [
        "\n",
        "1. What SAP does:\n",
        "SAP helps organizations become intelligent, networked, and sustainable enterprises through enterprise cloud-applications covering areas like supply chain and finance.\n",
        "\n",
        "2. SAP's Core Philosophy:\n",
        "SAP aims to make the world run better and improve people's lives.\n",
        "\n",
        "3. Cloud Transformation in SAP Goals:\n",
        "Digital cloud transformation is central to all of SAP's innovation and enterprise goals.\n",
        "\n",
        "4. Why Sustainability Matters:\n",
        "Sustainability is a core responsibility at SAP and is deeply embedded in its innovation and operations.\n",
        "\n",
        "5. How SAP Enables Growth:\n",
        "By integrating data and processes, building flexible supply chains, and applying industry best practices.\n",
        "\n",
        "6. SAP Global Services Include:\n",
        "Sales, consulting, design, build, hosting — full lifecycle business solutions.\n",
        "\n",
        "7. SAP Ecosystem Delivers:\n",
        "Innovative, tailored, and locally embedded solutions that meet strict SAP standards.\n",
        "\n",
        "8. How Customers Become Intelligent Enterprises:\n",
        "By leveraging cloud-based workflows, lifecycle management, and analytics to provide seamless experiences.\n",
        "\n",
        "9. Role of an SAP Functional Consultant:\n",
        "Understand client business problems and apply SAP solutions to solve them.\n",
        "\n",
        "10. Role of an SAP Technical Consultant:\n",
        "Turn functional designs into technical solutions and implement them using SAP tools."
      ],
      "metadata": {
        "id": "Zwtz3sC1ef-q"
      }
    },
    {
      "cell_type": "markdown",
      "source": [
        "**Summary:**\n",
        "\n",
        "SAP’s Vision and Strategy\n",
        "Sustainability Focus: SAP embeds sustainability into its core operations, aiming to help customers become intelligent, networked, and sustainable enterprises through innovation and trusted collaboration.\n",
        "\n",
        "Global Impact: SAP solutions are involved in 87% of global commerce, supporting supply chain, resource management, customer relationships, and financial processes.\n",
        "\n",
        "Strategic Goals: SAP seeks to build a sustainable world, enable intelligent enterprises, and connect organizations globally via business networks.\n",
        "\n",
        "Technology and Operations\n",
        "Cloud Leadership: SAP empowers organizations to become intelligent enterprises by leveraging cloud technologies for consistent workflows and integrated analytics.\n",
        "\n",
        "Data Utilization: Applications collect and process operational data to help visualize and manage business activities effectively.\n",
        "\n",
        "Local Solutions: SAP offers innovative, tailored, and locally embedded solutions developed with global partners to meet specific market needs.\n",
        "\n",
        "Roles and Responsibilities\n",
        "Functional Consultant: Works directly with customers to understand business needs, design new processes, and recommend SAP solutions aligned with their strategy.\n",
        "\n",
        "Technical Consultant: Converts functional designs into technical implementations, handling development, deployment, and system testing.\n",
        "\n",
        "Cultural Values\n",
        "Diversity and Inclusion: SAP promotes innovation through a diverse workforce, increasing the number of women managers and expanding skillsets.\n",
        "\n",
        "Environmental Responsibility: SAP is committed to zero emissions, focusing on sustainability as a key driver of growth and loyalty."
      ],
      "metadata": {
        "id": "6eFYkyxll8Ge"
      }
    },
    {
      "cell_type": "markdown",
      "source": [
        "### 💠**Module 2. SAP Professional Skills Part 1**"
      ],
      "metadata": {
        "id": "pFcxKbc7mFI5"
      }
    },
    {
      "cell_type": "markdown",
      "source": [
        "\"Luck is what happens when preparation meets opportunity\"*"
      ],
      "metadata": {
        "id": "irUY_gY2mFI6"
      }
    },
    {
      "cell_type": "markdown",
      "source": [
        "**On projects, you’ll use this analytical tool kit to ask,**\n",
        "\n",
        "“What do the customer’s organization and technology environment look like?”\n",
        "\n",
        "“How are their business and data processes working?”\n",
        "\n",
        "and “Is this customer ready for change and set up for success?”\n",
        "\n",
        "**After you analyze a customer’s environment, you’ll formulate recommendations, by asking**\n",
        "\n",
        "“How can SAP help this customer achieve their goals?”\n",
        "\n",
        "and “What is the best way to go about it?”"
      ],
      "metadata": {
        "id": "MPC5uDX9p7gE"
      }
    },
    {
      "cell_type": "markdown",
      "source": [
        "*And we’ll cover the single most valuable skill in consulting – the ability to actively listen.*"
      ],
      "metadata": {
        "id": "ZQcfgmwAqXgu"
      }
    },
    {
      "cell_type": "markdown",
      "source": [
        "#### **◽Theme 1: Research Concepts**"
      ],
      "metadata": {
        "id": "6ThU2BSMrIvI"
      }
    },
    {
      "cell_type": "markdown",
      "source": [
        "*Research is creating new knowledge.*\n",
        "\n"
      ],
      "metadata": {
        "id": "zMq-DZfQrSWe"
      }
    },
    {
      "cell_type": "markdown",
      "source": [
        "\n",
        "**Research Skills:**\n",
        "\n",
        "1. Identify an issue or problem\n",
        "2. Search for information\n",
        "3. Interpret and evaluate\n",
        "4. Analyze data\n",
        "5. Document\n",
        "6. Communicate the outcome\n",
        "\n",
        "\n"
      ],
      "metadata": {
        "id": "5_6Srqmcr5vJ"
      }
    },
    {
      "cell_type": "markdown",
      "source": [
        "**Outcome of research:**\n",
        "\n",
        "* Quantitative data\n",
        " * Numerical, factual, fixed and universal\n",
        " * Tells how many, how much, or how often\n",
        " * Collect this data through counting and measuring\n",
        "\n",
        "* Qualitative data\n",
        " * Descriptive, changeable, and subjective\n",
        " * Collect this data through interviews and observations\n",
        "\n"
      ],
      "metadata": {
        "id": "xuqiwYVatMy7"
      }
    },
    {
      "cell_type": "markdown",
      "source": [
        "**Scenario planning:**"
      ],
      "metadata": {
        "id": "oIqaCnyXvEHf"
      }
    },
    {
      "cell_type": "markdown",
      "source": [
        "SWOT (Strengths, Weaknesses, Opportunities, and Threats)"
      ],
      "metadata": {
        "id": "2WECqnOuuUI-"
      }
    },
    {
      "cell_type": "markdown",
      "source": [
        "PESTLE (Political, Economic, Sociological, Technological, Legal, and Environmental)"
      ],
      "metadata": {
        "id": "uyMoC2_xuVBS"
      }
    },
    {
      "cell_type": "markdown",
      "source": [
        "**Methods of research:**\n",
        "\n",
        "* **Primary research.** Involves collecting data in the field.\n",
        "\n",
        "* **Secondary research.** Uses existing data."
      ],
      "metadata": {
        "id": "AL4-w5dwuYaf"
      }
    },
    {
      "cell_type": "markdown",
      "source": [
        "#### **◽Theme 2: Research Methods**"
      ],
      "metadata": {
        "id": "ZVYeoM3rvoGq"
      }
    },
    {
      "cell_type": "markdown",
      "source": [
        "**Research Questions**\n",
        "\n",
        "What is the purpose of research?\n",
        "\n",
        "What do you want to discover?\n",
        "\n",
        "What analysis do you need to perform?\n",
        "\n",
        "What data do you need to conduct analysis?\n",
        "\n",
        "What research methods will give you that data?\n",
        "\n",
        "What processes and checks do you have to ensure accuracy in recording and assessment?\n",
        "\n"
      ],
      "metadata": {
        "id": "lvyTLB7jvubg"
      }
    },
    {
      "cell_type": "markdown",
      "source": [
        "**Secondary research:** Reading existent information.\n",
        "\n",
        "**Surveys:** Used to gather specific research data.\n",
        "\n",
        "**Workshops:** Qualitative research, provide deep insights\n",
        "\n",
        "**Personal Interviews:** Confidential setting to get precise information\n",
        "\n",
        "**Specific local observations:** Valuable information from the process\n",
        "\n",
        "**Trials:** Give information from controlled conditions\n",
        "\n",
        "**Delphi method:** Information from a group of experts.\n",
        "\n"
      ],
      "metadata": {
        "id": "6PHprwRlwg_E"
      }
    },
    {
      "cell_type": "markdown",
      "source": [
        "**Types of questions:**\n",
        "\n",
        "* Close-ended questions\n",
        "* Open-ended questions\n"
      ],
      "metadata": {
        "id": "QdUJ8Jdtx98H"
      }
    },
    {
      "cell_type": "markdown",
      "source": [
        "#### **◽Theme 3: Strategic Thinking**"
      ],
      "metadata": {
        "id": "MrQ5MU6EyEsx"
      }
    },
    {
      "cell_type": "markdown",
      "source": [
        "“Analysis is the critical starting point of strategic thinking.”"
      ],
      "metadata": {
        "id": "bcOTSwC7yzdf"
      }
    },
    {
      "cell_type": "markdown",
      "source": [
        " It is a focused and intentional thought process whereby an individual seeks to better understand an entity or scenario by analyzing constituent variables and then evaluating the effects of changes in those variables."
      ],
      "metadata": {
        "id": "LdIl6wjezFaz"
      }
    },
    {
      "cell_type": "markdown",
      "source": [
        " When analyzing anything alone or in a team, ​one useful tool can be ​a mind map."
      ],
      "metadata": {
        "id": "W9jVToCtzZi_"
      }
    },
    {
      "cell_type": "markdown",
      "source": [
        "A mind map is a diagram for showing and organizing information that is linked to and arranged around a central concept."
      ],
      "metadata": {
        "id": "7Fe1o_VNzWLb"
      }
    },
    {
      "cell_type": "markdown",
      "source": [
        "The benefits of using mind maps are: High efficiency, Valuable overview of a central concept, And they are simple, fast, and fun."
      ],
      "metadata": {
        "id": "EgHG6-vCzi-X"
      }
    },
    {
      "cell_type": "markdown",
      "source": [
        "Strategic Thinking allows you to arrive at a solution rationally by analyzing, problem-solving, planning, and communicating."
      ],
      "metadata": {
        "id": "O_i0_tLh0WlM"
      }
    },
    {
      "cell_type": "markdown",
      "source": [
        "#### **◽Theme 4: Design Thinking**"
      ],
      "metadata": {
        "id": "ygVijw8Gys5E"
      }
    },
    {
      "cell_type": "markdown",
      "source": [
        "“The main tenet of design thinking is empathy for the people you're trying to design for. Leadership is exactly the same thing - building empathy for the people that you're entrusted to help. Once you understand what they really value, it's easy because you can mostly give it to them.”"
      ],
      "metadata": {
        "id": "k1sm5aDOyxf8"
      }
    },
    {
      "cell_type": "markdown",
      "source": [
        "Use Design Thinking as a process for solving problems and designing solutions creatively that relies on a deep empathy and the understanding of clients as human beings."
      ],
      "metadata": {
        "id": "v8R7YqNo097s"
      }
    },
    {
      "cell_type": "markdown",
      "source": [
        "**Design Thinking process:**\n",
        "\n",
        "1. **Stage 1. Empathize.** Research your user and their needs.\n",
        "2. **Stage 2. Define.** Statue your users needs and problems.\n",
        "3. **Stage 3. Ideate.** Challenge assumptions and create ideas.\n",
        "4. **Stage 4. Prototype.** Start to create solutions.\n",
        "5. **Stage 5. Test.** Try your solutions out.\n"
      ],
      "metadata": {
        "id": "ffoXP5x61Uag"
      }
    },
    {
      "cell_type": "markdown",
      "source": [
        "#### **◽Theme 5: Systems Thinking**"
      ],
      "metadata": {
        "id": "DEU8bYlWy0eA"
      }
    },
    {
      "cell_type": "markdown",
      "source": [
        "\"A system is an interconnected set of elements that is coherently organized in a way that achieves something.\"\n",
        "\n",
        "Consist of three kinds of things: elements, interconnections, and a purpose.\n"
      ],
      "metadata": {
        "id": "U3biLkBS2i2R"
      }
    },
    {
      "cell_type": "markdown",
      "source": [
        "Anything can be a system."
      ],
      "metadata": {
        "id": "3cYrVt5Ny5Aa"
      }
    },
    {
      "cell_type": "markdown",
      "source": [
        "“The behavior of a system cannot be known just by knowing the elements of which the system is made.”"
      ],
      "metadata": {
        "id": "A_9ohdLA2PBP"
      }
    },
    {
      "cell_type": "markdown",
      "source": [
        "**Need of Systems Thinking**\n",
        "\n",
        "* To determine the system by its purpose, and scientifically (or at least rationally) evaluate the effect of specific elements on the system when they are added, or removed.\n",
        "\n",
        "* To reduce complexity to manageable areas of observation and intervention while ensuring the wider context and interconnectivity between elements."
      ],
      "metadata": {
        "id": "uq3fST0u2x-A"
      }
    },
    {
      "cell_type": "markdown",
      "source": [
        "The purpose you are investigating will determine the scope of your analysis and which elements and interconnections you need to focus on.\n",
        "\n",
        "Viewing the world or an organization as a set of interconnected systems with different purposes gives you a powerful intervention tool.\n",
        "\n"
      ],
      "metadata": {
        "id": "9jtJO9T24xa7"
      }
    },
    {
      "cell_type": "markdown",
      "source": [
        "**Interconnected systems:** You can change single elementes in a system and see the impact on the whole system. This is called *leverage points*; they provide leverage because you achieve a larger effect through the system than if the element changed was somehow isolated."
      ],
      "metadata": {
        "id": "gTdWD05S5Yo3"
      }
    }
  ]
}